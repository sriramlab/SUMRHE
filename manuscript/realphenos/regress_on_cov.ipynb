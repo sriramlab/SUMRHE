{
 "cells": [
  {
   "cell_type": "code",
   "execution_count": 1,
   "id": "4877df88",
   "metadata": {},
   "outputs": [],
   "source": [
    "import numpy as np\n",
    "import pandas as pd\n",
    "from sklearn.preprocessing import StandardScaler\n",
    "import matplotlib.pyplot as plt\n",
    "import os"
   ]
  },
  {
   "cell_type": "code",
   "execution_count": 2,
   "id": "44dc031e",
   "metadata": {},
   "outputs": [],
   "source": [
    "data_folder = \"/u/project/sriram/alipazok/Data/new_ukkb_phenotypes/\"\n",
    "folder_path = \"/u/home/z/zhengton/project-sriram/SUM_RHE/\""
   ]
  },
  {
   "cell_type": "code",
   "execution_count": 49,
   "id": "b1cad90b",
   "metadata": {},
   "outputs": [],
   "source": [
    "with open(f\"{folder_path}/scripts/run.sumher/selected_pheno.txt\", 'r') as f:\n",
    "    pheno_list = [x.strip('\\n') for x in f.readlines()]"
   ]
  },
  {
   "cell_type": "code",
   "execution_count": 51,
   "id": "65f593c4",
   "metadata": {},
   "outputs": [],
   "source": [
    "for pheno_name in pheno_list:\n",
    "    pheno_df = pd.read_csv(f\"{data_folder}/{pheno_name}.pheno\", sep=' ')\n",
    "    covar_df = pd.read_csv(f\"{data_folder}/{pheno_name}.covar\", sep=' ')\n",
    "    pheno = pheno_df['pheno'].values\n",
    "    scaler = StandardScaler()\n",
    "    covar = scaler.fit_transform(covar_df.iloc[:, 2:].values)\n",
    "    pheno[np.isnan(pheno)] = -9\n",
    "    covar = covar[pheno != -9, :]\n",
    "    not_na_pheno = pheno[pheno != -9]\n",
    "    proj = covar @ (np.linalg.inv(covar.T @ covar) @ (covar.T @ not_na_pheno))\n",
    "    res = pheno[pheno != -9] - proj\n",
    "    pheno_df.loc[pheno_df['pheno'] != -9, 'pheno'] = res\n",
    "    pheno_df.to_csv(f\"{folder_path}/data/real_data/pheno_res/{pheno_name}.pheno\", sep=' ', index=False)"
   ]
  },
  {
   "cell_type": "code",
   "execution_count": 42,
   "id": "b2c52406",
   "metadata": {},
   "outputs": [],
   "source": []
  }
 ],
 "metadata": {
  "kernelspec": {
   "display_name": "Python 3",
   "language": "python",
   "name": "python3"
  },
  "language_info": {
   "codemirror_mode": {
    "name": "ipython",
    "version": 3
   },
   "file_extension": ".py",
   "mimetype": "text/x-python",
   "name": "python",
   "nbconvert_exporter": "python",
   "pygments_lexer": "ipython3",
   "version": "3.9.6"
  }
 },
 "nbformat": 4,
 "nbformat_minor": 5
}

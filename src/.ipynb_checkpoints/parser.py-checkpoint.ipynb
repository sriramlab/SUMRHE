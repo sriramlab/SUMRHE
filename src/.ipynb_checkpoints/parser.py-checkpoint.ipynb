{
 "cells": [
  {
   "cell_type": "code",
   "execution_count": 1,
   "id": "8d87ad67",
   "metadata": {},
   "outputs": [],
   "source": [
    "import argparse"
   ]
  },
  {
   "cell_type": "code",
   "execution_count": null,
   "id": "54a12ad0",
   "metadata": {},
   "outputs": [],
   "source": [
    "parser = argparse.ArgumentParser()\n",
    "parser.add_argument(\"--trace\", default=None, type=str, \\\n",
    "                    help='File path for trace summary statistics')\n",
    "parser.add_argument(\"--rhe\", default=None, type=str, \\\n",
    "                   help='Directory where the rhe trace outputs (from same population & SNP sets) are stored.'\n",
    "                    'Each output must have .trace and .MN files')\n",
    "parser.add_argument(\"--pheno\", default=None, type=str, \\\n",
    "                   help='File path for phenotype-specific summary statistics'\n",
    "                    'if the path is a directory, all summary statistics (ending with .sumstat) will be used')\n",
    "parser.add_argument(\"--max-chisq\", action='store', default=None, type=float, \\\n",
    "                    help='Filter out SNPs with chi-sq statistic above the threshold'\n",
    "                    'this can be done either only on the yKy or on both sides (use --filter-both-sides)'\n",
    "                    'with many non-polygenic SNPs, one-sided filtering might not be accurate')\n",
    "parser.add_argument(\"--filter-both-sides\", action='store_true', default=False,\\\n",
    "                    help='When filtering SNPs, remove their effects on both trace and yKy.'\n",
    "                    'This requires the (truncated) LD scores of all the SNPs used in trace calculation')\n",
    "parser.add_argument(\"--ldscore\", default=None, type=str, \\\n",
    "                    help='File path for LD scores of the reference SNPs'\n",
    "                    'it will be used for filtering non-polygenic SNPs')"
   ]
  }
 ],
 "metadata": {
  "kernelspec": {
   "display_name": "Python 3 (ipykernel)",
   "language": "python",
   "name": "python3"
  },
  "language_info": {
   "codemirror_mode": {
    "name": "ipython",
    "version": 3
   },
   "file_extension": ".py",
   "mimetype": "text/x-python",
   "name": "python",
   "nbconvert_exporter": "python",
   "pygments_lexer": "ipython3",
   "version": "3.11.4"
  }
 },
 "nbformat": 4,
 "nbformat_minor": 5
}
